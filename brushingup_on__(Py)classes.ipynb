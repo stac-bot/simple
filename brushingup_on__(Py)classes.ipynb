{
  "nbformat": 4,
  "nbformat_minor": 0,
  "metadata": {
    "colab": {
      "name": "brushing_on_ classes.ipynb",
      "provenance": [],
      "authorship_tag": "ABX9TyOsFQMffKAq75ek2ikLto2r",
      "include_colab_link": true
    },
    "kernelspec": {
      "name": "python3",
      "display_name": "Python 3"
    },
    "language_info": {
      "name": "python"
    }
  },
  "cells": [
    {
      "cell_type": "markdown",
      "metadata": {
        "id": "view-in-github",
        "colab_type": "text"
      },
      "source": [
        "<a href=\"https://colab.research.google.com/github/stac-bot/simple/blob/main/brushingup_on__(Py)classes.ipynb\" target=\"_parent\"><img src=\"https://colab.research.google.com/assets/colab-badge.svg\" alt=\"Open In Colab\"/></a>"
      ]
    },
    {
      "cell_type": "code",
      "execution_count": null,
      "metadata": {
        "id": "jjhH5omvqFey"
      },
      "outputs": [],
      "source": [
        "import turtle\n",
        "from turtle import *\n",
        "class Polygon:\n",
        "  def __init__(self, name, sides, size):\n",
        "    self.name = name\n",
        "    self.sides = sides\n",
        "    self.size = size \n",
        "    self.interior_angles = (self.sides-2)*180\n",
        "    self.angle = self.interior/self.sides\n",
        "   \n",
        "  def draw(self):\n",
        "    #import turtle library to draw stuff \n",
        "    for i in range(self.sides):\n",
        "      turtle.forward(self.size)\n",
        "      turtle.right(180 -  self.angle)\n",
        "    turtle.done()\n",
        "\n",
        "\n",
        "square = Polygon('square',4,100)\n",
        "square.draw()\n",
        "print(square.interior_angles)\n",
        "print(square.angle)\n",
        "\n",
        "pentagon = Polygon('pentagon', 5, 100)# user defined arg of size\n",
        "pentagon.draw()"
      ]
    },
    {
      "cell_type": "code",
      "source": [
        "square = Polygon('square',4)\n"
      ],
      "metadata": {
        "id": "8gcfkvN81xjv"
      },
      "execution_count": null,
      "outputs": []
    },
    {
      "cell_type": "code",
      "source": [
        "#with default arguments\n",
        "import turtle\n",
        "from turtle import *\n",
        "class Polygon:\n",
        "  def __init__(self, name, sides, size=200, color='black', line_thickness=4):\n",
        "    self.name = name\n",
        "    self.sides = sides\n",
        "    self.size = size \n",
        "    self.color = color\n",
        "    self.line_thickness = line_thickness\n",
        "    self.interior_angles = (self.sides-2)*180\n",
        "    self.angle = self.interior/self.sides\n",
        "   \n",
        "  def draw(self):\n",
        "    #import turtle library to draw stuff \n",
        "    turtle.color(self.color)\n",
        "    turtle.pensize(self.line_thickness )\n",
        "    for i in range(self.sides):\n",
        "      turtle.forward(self.size)\n",
        "      turtle.right(180 -  self.angle)\n",
        "    turtle.done()\n",
        "\n",
        "\n",
        "square = Polygon('square',4)\n",
        "square.draw()\n",
        "print(square.interior_angles)\n",
        "print(square.angle)\n",
        "\n",
        "pentagon = Polygon('pentagon', 5)\n",
        "pentagon.draw()"
      ],
      "metadata": {
        "id": "JC2-x4xD18p0"
      },
      "execution_count": null,
      "outputs": []
    },
    {
      "cell_type": "markdown",
      "source": [
        "inheritance"
      ],
      "metadata": {
        "id": "L5vhHjujDbRe"
      }
    },
    {
      "cell_type": "code",
      "source": [
        "class Square(Polygon):#Square is a child class of the parent Polygon\n",
        "  def __init__(self, size=200, color='black', line_thickness=4):\n",
        "    super().__init__(4, \"square\", size, color, line_thickness)\n",
        "   #this means take everything from the parent class Polygon\n",
        "  #just defining above stuff we get access to everything that is in the parent class\n",
        "\n",
        "  \n",
        "  #overwriting the parent class method in the child class\n",
        "  def draw(self):\n",
        "    trutle.begin_fill()\n",
        "    super().draw()\n",
        "    turtle.end_fill()\n",
        "\n",
        "\n",
        "\n",
        "\n",
        "\n",
        "\n",
        "\n"
      ],
      "metadata": {
        "id": "2peSwSJXDd3E"
      },
      "execution_count": null,
      "outputs": []
    },
    {
      "cell_type": "markdown",
      "source": [
        "Point class"
      ],
      "metadata": {
        "id": "pq5yjDBkGp_m"
      }
    },
    {
      "cell_type": "code",
      "source": [
        "import matplotlib.pyplot as plt\n",
        "class Point:\n",
        "  def __init__(self,x,y):\n",
        "    self.x = x\n",
        "    self.y = y\n",
        "\n",
        "  # define operation for the overloaded operator\n",
        "  def __add__(self, other):\n",
        "    if isinstance(other, Point):#syntax(//isinstance(object, type)//)\n",
        "      #The isinstance() function returns True if the specified object is of the specified type, otherwise False.\n",
        "      x = self.x  + other.x\n",
        "      y = self.y + other.y\n",
        "      return Point(x,y)\n",
        "\n",
        "    else:\n",
        "      x = self.x  + other \n",
        "      y = self.y + other\n",
        "      return Point(x,y)\n",
        "\n",
        "\n",
        "  def plot(self):\n",
        "    plt.scatter(self.x, self.y)\n",
        "\n",
        "a = Point(3,4)\n",
        "b = Point(4,6)\n",
        "#try this\n",
        "c = a+b \n",
        "z = a +10\n",
        "print(z.x,z.y)\n",
        "#// this is called operator overloading which can fixed by defining the operation of the operator\n",
        "print(c.x, c.y)\n",
        "#TypeError: unsupported operand type(s) for +: 'Point' and 'Point'\n",
        "#a.plot()\n",
        "c.plot()\n",
        "plt.show()"
      ],
      "metadata": {
        "colab": {
          "base_uri": "https://localhost:8080/",
          "height": 300
        },
        "id": "BPv_YLWQGrd0",
        "outputId": "a034c8b2-9018-4c70-b392-f3353b675fc8"
      },
      "execution_count": null,
      "outputs": [
        {
          "output_type": "stream",
          "name": "stdout",
          "text": [
            "13 14\n",
            "7 10\n"
          ]
        },
        {
          "output_type": "display_data",
          "data": {
            "image/png": "[encoded data removed]",
            "text/plain": [
              "<Figure size 432x288 with 1 Axes>"
            ]
          },
          "metadata": {
            "needs_background": "light"
          }
        }
      ]
    },
    {
      "cell_type": "code",
      "source": [
        " "
      ],
      "metadata": {
        "id": "FTO5uwhiHgFA"
      },
      "execution_count": null,
      "outputs": []
    }
  ]
}